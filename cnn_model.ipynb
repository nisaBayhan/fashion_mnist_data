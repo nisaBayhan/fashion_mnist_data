{
  "nbformat": 4,
  "nbformat_minor": 0,
  "metadata": {
    "colab": {
      "provenance": [],
      "authorship_tag": "ABX9TyNPr7ukwKzZSFR+vWfEm6LV",
      "include_colab_link": true
    },
    "kernelspec": {
      "name": "python3",
      "display_name": "Python 3"
    },
    "language_info": {
      "name": "python"
    }
  },
  "cells": [
    {
      "cell_type": "markdown",
      "metadata": {
        "id": "view-in-github",
        "colab_type": "text"
      },
      "source": [
        "<a href=\"https://colab.research.google.com/github/nisaBayhan/fashion_mnist_data/blob/main/cnn_model.ipynb\" target=\"_parent\"><img src=\"https://colab.research.google.com/assets/colab-badge.svg\" alt=\"Open In Colab\"/></a>"
      ]
    },
    {
      "cell_type": "markdown",
      "source": [
        "Kodlar, yapay zekaya giriş eğitimi için chatgpt yardımı ile hazırlanmıştır. Kodların neyi neden yaptığını anlamak amacıyla bir sunum hazırlanarak pdf halinde githuba yüklenmiştir."
      ],
      "metadata": {
        "id": "gtshN19g-yq1"
      }
    },
    {
      "cell_type": "code",
      "execution_count": null,
      "metadata": {
        "id": "k1I10cry5sBi"
      },
      "outputs": [],
      "source": [
        "# Gerekli kütüphanelerin yüklenmesi\n",
        "import numpy as np\n",
        "import matplotlib.pyplot as plt\n",
        "import tensorflow as tf\n",
        "from tensorflow.keras.datasets import fashion_mnist\n",
        "from sklearn.metrics import classification_report, confusion_matrix\n",
        "\n",
        "# Veri setinin yüklenmesi\n",
        "(X_train, y_train), (X_test, y_test) = fashion_mnist.load_data()\n"
      ]
    },
    {
      "cell_type": "code",
      "source": [
        "# Veri boyutlarının yazdırılması\n",
        "print(f\"X_train shape: {X_train.shape}\")\n",
        "print(f\"y_train shape: {y_train.shape}\")\n",
        "print(f\"X_test shape: {X_test.shape}\")\n",
        "print(f\"y_test shape: {y_test.shape}\")\n",
        "\n",
        "# Görüntü boyutlarının yazdırılması\n",
        "print(f\"Training data shape: {X_train.shape[1:]}\")\n",
        "print(f\"Test data shape: {X_test.shape[1:]}\")\n"
      ],
      "metadata": {
        "colab": {
          "base_uri": "https://localhost:8080/"
        },
        "id": "hwIyQDiE-Rew",
        "outputId": "b3b6e354-a9e2-472f-cad1-cdf4e988dfc7"
      },
      "execution_count": null,
      "outputs": [
        {
          "output_type": "stream",
          "name": "stdout",
          "text": [
            "X_train shape: (60000, 28, 28)\n",
            "y_train shape: (60000,)\n",
            "X_test shape: (10000, 28, 28)\n",
            "y_test shape: (10000,)\n",
            "Training data shape: (28, 28)\n",
            "Test data shape: (28, 28)\n"
          ]
        }
      ]
    },
    {
      "cell_type": "code",
      "source": [
        "# Görüntülerin görselleştirilmesi\n",
        "fig, axes = plt.subplots(1, 10, figsize=(20, 3))\n",
        "for i in range(10):\n",
        "    axes[i].imshow(X_train[i], cmap='gray')\n",
        "    axes[i].axis('off')\n",
        "plt.show()\n"
      ],
      "metadata": {
        "colab": {
          "base_uri": "https://localhost:8080/",
          "height": 137
        },
        "id": "Z4MGzoyn-Tx9",
        "outputId": "3c7725ac-7472-46ac-e72f-5c6cb38a7c1c"
      },
      "execution_count": null,
      "outputs": [
        {
          "output_type": "display_data",
          "data": {
            "text/plain": [
              "<Figure size 2000x300 with 10 Axes>"
            ],
            "image/png": "[encoded data removed]"
          },
          "metadata": {}
        }
      ]
    },
    {
      "cell_type": "code",
      "source": [
        "# Verilerin normalize edilmesi\n",
        "X_train = X_train / 255.0\n",
        "X_test = X_test / 255.0\n"
      ],
      "metadata": {
        "id": "a9zB0kCc-V89"
      },
      "execution_count": null,
      "outputs": []
    },
    {
      "cell_type": "code",
      "source": [
        "# CNN modelinin oluşturulması\n",
        "model = tf.keras.Sequential([\n",
        "    tf.keras.layers.Conv2D(32, (3, 3), activation='relu', input_shape=(28, 28, 1)),\n",
        "    tf.keras.layers.MaxPooling2D((2, 2)),\n",
        "    tf.keras.layers.Conv2D(64, (3, 3), activation='relu'),\n",
        "    tf.keras.layers.MaxPooling2D((2, 2)),\n",
        "    tf.keras.layers.Flatten(),\n",
        "    tf.keras.layers.Dense(128, activation='relu'),\n",
        "    tf.keras.layers.Dense(10, activation='softmax')\n",
        "])\n"
      ],
      "metadata": {
        "id": "Tt1LInEy-YMk"
      },
      "execution_count": null,
      "outputs": []
    },
    {
      "cell_type": "code",
      "source": [
        "# Modelin derlenmesi\n",
        "model.compile(optimizer='adam',\n",
        "              loss='sparse_categorical_crossentropy',\n",
        "              metrics=['accuracy'])\n"
      ],
      "metadata": {
        "id": "G9FewH0z-cBE"
      },
      "execution_count": null,
      "outputs": []
    },
    {
      "cell_type": "code",
      "source": [
        "# Modelin eğitilmesi\n",
        "X_train = X_train.reshape(-1, 28, 28, 1)\n",
        "X_test = X_test.reshape(-1, 28, 28, 1)\n",
        "history = model.fit(X_train, y_train, epochs=10, validation_data=(X_test, y_test))\n"
      ],
      "metadata": {
        "colab": {
          "base_uri": "https://localhost:8080/"
        },
        "id": "FZTMGUvG-et2",
        "outputId": "71d3b624-d325-4c5e-c0a3-9a814194d5dc"
      },
      "execution_count": null,
      "outputs": [
        {
          "output_type": "stream",
          "name": "stdout",
          "text": [
            "Epoch 1/10\n",
            "1875/1875 [==============================] - 85s 44ms/step - loss: 0.4478 - accuracy: 0.8386 - val_loss: 0.3833 - val_accuracy: 0.8600\n",
            "Epoch 2/10\n",
            "1875/1875 [==============================] - 66s 35ms/step - loss: 0.3010 - accuracy: 0.8888 - val_loss: 0.3104 - val_accuracy: 0.8898\n",
            "Epoch 3/10\n",
            "1875/1875 [==============================] - 77s 41ms/step - loss: 0.2536 - accuracy: 0.9063 - val_loss: 0.2734 - val_accuracy: 0.9018\n",
            "Epoch 4/10\n",
            "1875/1875 [==============================] - 57s 30ms/step - loss: 0.2221 - accuracy: 0.9172 - val_loss: 0.2655 - val_accuracy: 0.9033\n",
            "Epoch 5/10\n",
            "1875/1875 [==============================] - 61s 32ms/step - loss: 0.1940 - accuracy: 0.9274 - val_loss: 0.2471 - val_accuracy: 0.9098\n",
            "Epoch 6/10\n",
            "1875/1875 [==============================] - 54s 29ms/step - loss: 0.1723 - accuracy: 0.9350 - val_loss: 0.2518 - val_accuracy: 0.9106\n",
            "Epoch 7/10\n",
            "1875/1875 [==============================] - 54s 29ms/step - loss: 0.1533 - accuracy: 0.9423 - val_loss: 0.2567 - val_accuracy: 0.9095\n",
            "Epoch 8/10\n",
            "1875/1875 [==============================] - 58s 31ms/step - loss: 0.1346 - accuracy: 0.9485 - val_loss: 0.2786 - val_accuracy: 0.9098\n",
            "Epoch 9/10\n",
            "1875/1875 [==============================] - 56s 30ms/step - loss: 0.1199 - accuracy: 0.9549 - val_loss: 0.3047 - val_accuracy: 0.9075\n",
            "Epoch 10/10\n",
            "1875/1875 [==============================] - 53s 28ms/step - loss: 0.1055 - accuracy: 0.9599 - val_loss: 0.3061 - val_accuracy: 0.9104\n"
          ]
        }
      ]
    },
    {
      "cell_type": "code",
      "source": [
        "# Modelin değerlendirilmesi\n",
        "test_loss, test_acc = model.evaluate(X_test, y_test, verbose=2)\n",
        "print(f\"\\nTest accuracy: {test_acc}\")\n",
        "\n",
        "# Sonuçların görselleştirilmesi\n",
        "plt.plot(history.history['accuracy'], label='accuracy')\n",
        "plt.plot(history.history['val_accuracy'], label = 'val_accuracy')\n",
        "plt.xlabel('Epoch')\n",
        "plt.ylabel('Accuracy')\n",
        "plt.ylim([0, 1])\n",
        "plt.legend(loc='lower right')\n",
        "plt.show()\n"
      ],
      "metadata": {
        "colab": {
          "base_uri": "https://localhost:8080/",
          "height": 507
        },
        "id": "YRMIf0xj-mA0",
        "outputId": "58676b03-ad54-4395-f9f7-53d78a65f19e"
      },
      "execution_count": null,
      "outputs": [
        {
          "output_type": "stream",
          "name": "stdout",
          "text": [
            "313/313 - 2s - loss: 0.3061 - accuracy: 0.9104 - 2s/epoch - 7ms/step\n",
            "\n",
            "Test accuracy: 0.9103999733924866\n"
          ]
        },
        {
          "output_type": "display_data",
          "data": {
            "text/plain": [
              "<Figure size 640x480 with 1 Axes>"
            ],
            "image/png": "[encoded data removed]"
          },
          "metadata": {}
        }
      ]
    },
    {
      "cell_type": "code",
      "source": [
        "# Tahminler ve karışıklık matrisi\n",
        "y_pred = np.argmax(model.predict(X_test), axis=1)\n",
        "print(classification_report(y_test, y_pred))\n",
        "print(confusion_matrix(y_test, y_pred))\n"
      ],
      "metadata": {
        "colab": {
          "base_uri": "https://localhost:8080/"
        },
        "id": "jOwkOnZQ-pS3",
        "outputId": "f0174de8-8c11-4c8f-d74e-28faa99cc956"
      },
      "execution_count": null,
      "outputs": [
        {
          "output_type": "stream",
          "name": "stdout",
          "text": [
            "313/313 [==============================] - 3s 8ms/step\n",
            "              precision    recall  f1-score   support\n",
            "\n",
            "           0       0.85      0.85      0.85      1000\n",
            "           1       1.00      0.97      0.99      1000\n",
            "           2       0.85      0.88      0.86      1000\n",
            "           3       0.92      0.94      0.93      1000\n",
            "           4       0.85      0.88      0.86      1000\n",
            "           5       0.96      0.99      0.98      1000\n",
            "           6       0.77      0.71      0.74      1000\n",
            "           7       0.98      0.92      0.95      1000\n",
            "           8       0.99      0.97      0.98      1000\n",
            "           9       0.95      0.98      0.96      1000\n",
            "\n",
            "    accuracy                           0.91     10000\n",
            "   macro avg       0.91      0.91      0.91     10000\n",
            "weighted avg       0.91      0.91      0.91     10000\n",
            "\n",
            "[[852   0  24  12   5   2 101   0   4   0]\n",
            " [  2 975   2  13   4   0   3   0   1   0]\n",
            " [ 14   0 882   9  42   0  52   0   1   0]\n",
            " [ 14   1   7 940  19   1  17   0   1   0]\n",
            " [  1   0  61  25 880   1  30   0   2   0]\n",
            " [  0   0   0   0   0 993   0   4   0   3]\n",
            " [109   0  62  27  85   1 710   0   5   1]\n",
            " [  0   0   0   0   0  29   0 923   0  48]\n",
            " [  5   0   5   1   6   2   6   1 971   3]\n",
            " [  1   0   0   0   0   5   0  16   0 978]]\n"
          ]
        }
      ]
    }
  ]
}